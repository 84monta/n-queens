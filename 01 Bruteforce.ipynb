{
 "cells": [
  {
   "cell_type": "code",
   "execution_count": 1,
   "metadata": {},
   "outputs": [],
   "source": [
    "import numpy as np\n",
    "import matplotlib.pyplot as plt\n",
    "import time\n",
    "from itertools import combinations"
   ]
  },
  {
   "cell_type": "code",
   "execution_count": 2,
   "metadata": {},
   "outputs": [],
   "source": [
    "#Nをセット　！！！注意8以上は非常に長い時間がかかります！！！\n",
    "N = 7\n",
    "#碁盤の位置情報を(x,y)で定義する\n",
    "locations = [(x,y) for y in range(N) for x in range(N)]\n",
    "#位置の組合わせを生成する（重複なし）\n",
    "candidate_locs = combinations(locations,N)\n",
    "cnt = 0"
   ]
  },
  {
   "cell_type": "code",
   "execution_count": 3,
   "metadata": {},
   "outputs": [],
   "source": [
    "def plot_chessboard(N, queens):\n",
    "    \"\"\"Create a chessboard with queens using matplotlib. Image is saved\n",
    "    in the root directory. Returns the image file name.\n",
    "    \"\"\"\n",
    "    chessboard = np.zeros((N,N))\n",
    "    chessboard[1::2,0::2] = 1\n",
    "    chessboard[0::2,1::2] = 1\n",
    "\n",
    "    # Adjust fontsize for readability\n",
    "    if N <= 10:\n",
    "        fontsize = 30\n",
    "    elif N <= 20:\n",
    "        fontsize = 10\n",
    "    else:\n",
    "        fontsize = 5\n",
    "\n",
    "    plt.xticks(np.arange(N))\n",
    "    plt.yticks(np.arange(N))\n",
    "\n",
    "    plt.imshow(chessboard, cmap='binary')\n",
    "\n",
    "    # Place queens\n",
    "    for x,y in queens:\n",
    "\n",
    "        if x != -1 and y != -1:\n",
    "            plt.text(x, y, u\"\\u2655\", fontsize=fontsize, ha='center',\n",
    "                     va='center', color='black' if (x - y) % 2 == 0 else 'white')\n",
    "\n",
    "    # Save file in root directory\n",
    "    file_name = \"{}-queens-solution.png\".format(N)\n",
    "    plt.savefig(file_name)"
   ]
  },
  {
   "cell_type": "code",
   "execution_count": 4,
   "metadata": {},
   "outputs": [],
   "source": [
    "def is_conflict(l1,l2):\n",
    "    x_diff = abs(l1[0] - l2[0])\n",
    "    y_diff = abs(l1[1] - l2[1])\n",
    "\n",
    "    # 縦可、横に並んでいる場合は衝突\n",
    "    if x_diff == 0 or y_diff == 0:\n",
    "        return True\n",
    "    #斜め方向に存在する場合は衝突\n",
    "    if x_diff == y_diff:\n",
    "        return True\n",
    "    \n",
    "    return False"
   ]
  },
  {
   "cell_type": "code",
   "execution_count": 5,
   "metadata": {},
   "outputs": [],
   "source": [
    "#指定された配置に衝突がないかをチェック。Queenが全て問題なく配置されていればTrueを返す。\n",
    "def is_avaiable(locs):\n",
    "    #i番目のQueenの位置を取得して、i+1番目以降のQueenと衝突しないことを確認する\n",
    "    #チェックするのは右、右下、下、左下のみ\n",
    "    flag = True\n",
    "    for i,j in combinations(range(N),2):\n",
    "        if is_conflict(locs[i],locs[j]):\n",
    "            flag = False\n",
    "            break\n",
    "\n",
    "    return flag"
   ]
  },
  {
   "cell_type": "code",
   "execution_count": 6,
   "metadata": {},
   "outputs": [
    {
     "name": "stdout",
     "output_type": "stream",
     "text": [
      "試した回数 8859383, 処理時間 7.3秒\n"
     ]
    },
    {
     "data": {
      "image/png": "[encoded data removed]",
      "text/plain": [
       "<Figure size 432x288 with 1 Axes>"
      ]
     },
     "metadata": {
      "needs_background": "light"
     },
     "output_type": "display_data"
    }
   ],
   "source": [
    "#メインロジック\n",
    "\n",
    "cnt = 0\n",
    "start_time = time.time()\n",
    "for locs in candidate_locs:\n",
    "    cnt += 1\n",
    "    if is_avaiable(locs):\n",
    "        break\n",
    "end_time = time.time()\n",
    "print(f\"試した回数 {cnt}, 処理時間 {(end_time -  start_time):.1f}秒\")\n",
    "\n",
    "plot_chessboard(N,locs)"
   ]
  }
 ],
 "metadata": {
  "kernelspec": {
   "display_name": "Python 3.8.10 64-bit",
   "language": "python",
   "name": "python3"
  },
  "language_info": {
   "codemirror_mode": {
    "name": "ipython",
    "version": 3
   },
   "file_extension": ".py",
   "mimetype": "text/x-python",
   "name": "python",
   "nbconvert_exporter": "python",
   "pygments_lexer": "ipython3",
   "version": "3.8.10"
  },
  "orig_nbformat": 4,
  "vscode": {
   "interpreter": {
    "hash": "31f2aee4e71d21fbe5cf8b01ff0e069b9275f58929596ceb00d14d90e3e16cd6"
   }
  }
 },
 "nbformat": 4,
 "nbformat_minor": 2
}
