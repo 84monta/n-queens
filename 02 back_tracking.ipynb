{
 "cells": [
  {
   "cell_type": "code",
   "execution_count": 100,
   "metadata": {},
   "outputs": [],
   "source": [
    "import numpy as np\n",
    "import matplotlib.pyplot as plt\n",
    "import time"
   ]
  },
  {
   "cell_type": "code",
   "execution_count": 101,
   "metadata": {},
   "outputs": [],
   "source": [
    "#Nをセット\n",
    "N = 8\n",
    "loc = [0] * N\n",
    "cnt = 0"
   ]
  },
  {
   "cell_type": "code",
   "execution_count": 102,
   "metadata": {},
   "outputs": [],
   "source": [
    "def plot_chessboard(N, queens):\n",
    "    \"\"\"Create a chessboard with queens using matplotlib. Image is saved\n",
    "    in the root directory. Returns the image file name.\n",
    "    \"\"\"\n",
    "    chessboard = np.zeros((N,N))\n",
    "    chessboard[1::2,0::2] = 1\n",
    "    chessboard[0::2,1::2] = 1\n",
    "\n",
    "    # Adjust fontsize for readability\n",
    "    if N <= 10:\n",
    "        fontsize = 30\n",
    "    elif N <= 20:\n",
    "        fontsize = 10\n",
    "    else:\n",
    "        fontsize = 5\n",
    "\n",
    "    plt.xticks(np.arange(N))\n",
    "    plt.yticks(np.arange(N))\n",
    "\n",
    "    plt.imshow(chessboard, cmap='binary')\n",
    "\n",
    "    # Place queens\n",
    "    for x,y in enumerate(queens):\n",
    "\n",
    "        if x != -1 and y != -1:\n",
    "            plt.text(x, y, u\"\\u2655\", fontsize=fontsize, ha='center',\n",
    "                     va='center', color='black' if (x - y) % 2 == 0 else 'white')\n",
    "\n",
    "    # Save file in root directory\n",
    "    file_name = \"{}-queens-solution.png\".format(N)\n",
    "    plt.savefig(file_name)"
   ]
  },
  {
   "cell_type": "code",
   "execution_count": 103,
   "metadata": {},
   "outputs": [],
   "source": [
    "#ある列のある場所にQueenが置けるかどうかをチェック\n",
    "def is_available(test_col, test_loc):\n",
    "    global cnt\n",
    "    cnt = cnt + 1\n",
    "        \n",
    "    for i in range(test_col):\n",
    "        #左斜め上        \n",
    "        if loc[test_col-i-1] == test_loc-i-1:\n",
    "            return False\n",
    "        #左方向\n",
    "        if loc[test_col-i-1] == test_loc:\n",
    "            return False\n",
    "        #左斜め下\n",
    "        if loc[test_col-i-1] == test_loc+i+1:\n",
    "            return False\n",
    "    \n",
    "    #左方向に衝突がなければ、置けるのでTrueを返す\n",
    "    return True\n",
    "\n"
   ]
  },
  {
   "cell_type": "code",
   "execution_count": 104,
   "metadata": {},
   "outputs": [],
   "source": [
    "def test_next(test_col):\n",
    "    global cnt\n",
    "    cnt = cnt + 1\n",
    "    if test_col == N:\n",
    "        return True\n",
    "    \n",
    "    #もし、指定された列にQueenを置けるか上から順に試し、置けるのであれば仮置きして次の列をチェックする。\n",
    "    #指定された列と次の列も置けるようであれば、成功（True）を返す\n",
    "    \n",
    "    for i in range(N):\n",
    "        if is_available(test_col,i):\n",
    "            #置けるようであればそこに仮置きして次の行にもどこか置ける部分があればTrueを返す。\n",
    "            loc[test_col] = i\n",
    "            if test_next(test_col+1):\n",
    "                return True\n",
    "    \n",
    "    #指定された列のどこにもQueenを置けなければ失敗（False）を返す。\n",
    "    return False"
   ]
  },
  {
   "cell_type": "code",
   "execution_count": 105,
   "metadata": {},
   "outputs": [
    {
     "name": "stdout",
     "output_type": "stream",
     "text": [
      "解あり\n",
      "試した回数 21, 処理時間 0.0秒\n"
     ]
    },
    {
     "data": {
      "image/png": "[encoded data removed]",
      "text/plain": [
       "<Figure size 432x288 with 1 Axes>"
      ]
     },
     "metadata": {
      "needs_background": "light"
     },
     "output_type": "display_data"
    }
   ],
   "source": [
    "#メインロジック\n",
    "\n",
    "start_time = time.time()\n",
    "if test_next(0):\n",
    "    print(\"解あり\")\n",
    "else:\n",
    "    print(\"解なし\")\n",
    "end_time = time.time()\n",
    "print(f\"試した回数 {cnt}, 処理時間 {(end_time-start_time):.1f}秒\")\n",
    "\n",
    "plot_chessboard(N,loc)"
   ]
  },
  {
   "cell_type": "code",
   "execution_count": null,
   "metadata": {},
   "outputs": [],
   "source": []
  },
  {
   "cell_type": "code",
   "execution_count": null,
   "metadata": {},
   "outputs": [],
   "source": []
  }
 ],
 "metadata": {
  "kernelspec": {
   "display_name": "Python 3.8.10 64-bit",
   "language": "python",
   "name": "python3"
  },
  "language_info": {
   "codemirror_mode": {
    "name": "ipython",
    "version": 3
   },
   "file_extension": ".py",
   "mimetype": "text/x-python",
   "name": "python",
   "nbconvert_exporter": "python",
   "pygments_lexer": "ipython3",
   "version": "3.8.10"
  },
  "orig_nbformat": 4,
  "vscode": {
   "interpreter": {
    "hash": "31f2aee4e71d21fbe5cf8b01ff0e069b9275f58929596ceb00d14d90e3e16cd6"
   }
  }
 },
 "nbformat": 4,
 "nbformat_minor": 2
}
